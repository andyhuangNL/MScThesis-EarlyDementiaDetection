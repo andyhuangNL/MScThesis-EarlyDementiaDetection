{
 "cells": [
  {
   "cell_type": "markdown",
   "metadata": {},
   "source": [
    "# Imports"
   ]
  },
  {
   "cell_type": "code",
   "execution_count": 1,
   "metadata": {},
   "outputs": [],
   "source": [
    "import pandas as pd\n",
    "import seaborn as sns\n",
    "import matplotlib.pyplot as plt\n",
    "from scipy.stats import mannwhitneyu\n",
    "import numpy as np\n",
    "\n",
    "pd.set_option('display.max_columns', None)\n",
    "pd.set_option('display.max_rows', None)"
   ]
  },
  {
   "cell_type": "markdown",
   "metadata": {},
   "source": [
    "# Preprocessing"
   ]
  },
  {
   "cell_type": "code",
   "execution_count": 2,
   "metadata": {},
   "outputs": [],
   "source": [
    "df = pd.read_excel(\"../data/albion_dataset_2024.8.xlsx\")"
   ]
  },
  {
   "cell_type": "code",
   "execution_count": 5,
   "metadata": {},
   "outputs": [],
   "source": [
    "# Filter rows with valid diagnosis and visits\n",
    "df_cleaned = df[df['DIAGNOSIS'].notna() & (df['DIAGNOSIS'] != 2) & (df['VisitNuA'] != 999)]"
   ]
  },
  {
   "cell_type": "code",
   "execution_count": 7,
   "metadata": {},
   "outputs": [],
   "source": [
    "df_cleaned.replace(999, np.nan, inplace=True)"
   ]
  },
  {
   "cell_type": "markdown",
   "metadata": {},
   "source": [
    "## Create new target (progression) variable"
   ]
  },
  {
   "cell_type": "code",
   "execution_count": 9,
   "metadata": {},
   "outputs": [
    {
     "name": "stderr",
     "output_type": "stream",
     "text": [
      "/var/folders/_l/gdx1m5nj6xq5zk07m__ljt280000gn/T/ipykernel_75944/3320048505.py:19: DeprecationWarning: DataFrameGroupBy.apply operated on the grouping columns. This behavior is deprecated, and in a future version of pandas the grouping columns will be excluded from the operation. Either pass `include_groups=False` to exclude the groupings or explicitly select the grouping columns after groupby to silence this warning.\n",
      "  target_mapping = df_filtered.groupby('ID').apply(assign_target)\n"
     ]
    }
   ],
   "source": [
    "# Filter individuals who start as healthy (DIAGNOSIS = 0) at VisitNuA = 1\n",
    "initial_healthy = df_cleaned[(df_cleaned['VisitNuA'] == 1) & (df_cleaned['DIAGNOSIS'] == 0)]\n",
    "\n",
    "# Get the unique IDs of individuals who start as healthy\n",
    "healthy_ids = initial_healthy['ID'].unique()\n",
    "\n",
    "# Filter the data for only these individuals\n",
    "df_filtered = df_cleaned[df_cleaned['ID'].isin(healthy_ids)]\n",
    "\n",
    "# Create a target variable\n",
    "def assign_target(group):\n",
    "    # Check if the person progresses to MCI (DIAGNOSIS = 1) after VisitNuA = 1\n",
    "    if any((group['VisitNuA'] > 1) & (group['DIAGNOSIS'] == 1)):\n",
    "        return 1  # Progresses to MCI\n",
    "    else:\n",
    "        return 0  # Remains healthy\n",
    "\n",
    "# Apply the function group by individual IDs\n",
    "target_mapping = df_filtered.groupby('ID').apply(assign_target)\n",
    "\n",
    "# Map the target variable back to the original data\n",
    "df_cleaned['Progressed'] = df_cleaned['ID'].map(target_mapping)\n",
    "\n",
    "# Filter the data for only the individuals of interest\n",
    "df_cleaned = df_cleaned[df_cleaned['Progressed'].notna()]"
   ]
  },
  {
   "cell_type": "code",
   "execution_count": 10,
   "metadata": {},
   "outputs": [],
   "source": [
    "# Filter the data for only the first visit of each individual\n",
    "df_cleaned = df_cleaned[df_cleaned['VisitNuA'] == 1].reset_index(drop=True)"
   ]
  },
  {
   "cell_type": "markdown",
   "metadata": {},
   "source": [
    "# Progression Analysis"
   ]
  },
  {
   "cell_type": "code",
   "execution_count": 13,
   "metadata": {},
   "outputs": [
    {
     "name": "stdout",
     "output_type": "stream",
     "text": [
      "Analyzing Predictor: MMSE\n",
      "  Mann-Whitney U Test: U=964.5, p-value=0.007368713670905064\n",
      "  Bootstrapped U p-value: 0.528, CI: [747.9625, 1138.025]\n",
      "  Bootstrapped Median Difference CI: [-2.0, 0.0]\n",
      "  Bootstrapped Variance Difference CI: [-1.1613723026736318, 0.8114273910722193]\n",
      "Analyzing Predictor: CDR_TOT\n",
      "  Mann-Whitney U Test: U=394.0, p-value=0.00025954267786194705\n",
      "  Bootstrapped U p-value: 0.496, CI: [177.9625, 599.05]\n",
      "  Bootstrapped Median Difference CI: [0.0, 0.5]\n",
      "  Bootstrapped Variance Difference CI: [-0.022131934739977807, 0.15824638450710257]\n",
      "Analyzing Predictor: ZME\n",
      "  Mann-Whitney U Test: U=1009.0, p-value=0.0036826111555860056\n",
      "  Bootstrapped U p-value: 0.531, CI: [755.0, 1214.05]\n",
      "  Bootstrapped Median Difference CI: [-1.7775063526419432, 0.17041182283252515]\n",
      "  Bootstrapped Variance Difference CI: [-0.275175535313192, 0.5111352180169896]\n",
      "Analyzing Predictor: ZLA\n",
      "  Mann-Whitney U Test: U=807.5, p-value=0.04552875991675964\n",
      "  Bootstrapped U p-value: 0.532, CI: [578.4875, 1019.5749999999999]\n",
      "  Bootstrapped Median Difference CI: [-1.257234893953353, 0.1246591770299647]\n",
      "  Bootstrapped Variance Difference CI: [-0.33323674770812567, 1.6715572328414645]\n",
      "Analyzing Predictor: ZEX\n",
      "  Mann-Whitney U Test: U=913.0, p-value=0.024383106628722007\n",
      "  Bootstrapped U p-value: 0.537, CI: [707.975, 1112.025]\n",
      "  Bootstrapped Median Difference CI: [-1.1801894789998273, 0.20387560962295015]\n",
      "  Bootstrapped Variance Difference CI: [-0.43942202973993766, 0.5997383484403642]\n",
      "Analyzing Predictor: SPEED_1\n",
      "  Mann-Whitney U Test: U=309.5, p-value=0.6527640727656401\n",
      "Analyzing Predictor: SPEED_2\n",
      "  Mann-Whitney U Test: U=309.5, p-value=0.699981132348777\n"
     ]
    }
   ],
   "source": [
    "# Set predictors to analyze, these are the features that the first-visit model showed as most important\n",
    "predictors = ['MMSE', 'CDR_TOT', 'ZME', 'ZLA', 'ZEX', 'SPEED_1', 'SPEED_2']\n",
    "\n",
    "# Store results\n",
    "results = []\n",
    "\n",
    "# Number of bootstrap samples\n",
    "n_bootstraps = 1000\n",
    "\n",
    "# Iterate through each predictor\n",
    "for predictor in predictors:\n",
    "    print(f\"Analyzing Predictor: {predictor}\")\n",
    "    group_0 = df_cleaned[df_cleaned['Progressed'] == 0][predictor].dropna()\n",
    "    group_1 = df_cleaned[df_cleaned['Progressed'] == 1][predictor].dropna()\n",
    "    \n",
    "    # Step 1: Mann-Whitney U Test\n",
    "    u_stat, p_value = mannwhitneyu(group_0, group_1, alternative='two-sided')\n",
    "    print(f\"  Mann-Whitney U Test: U={u_stat}, p-value={p_value}\")\n",
    "    \n",
    "    # If Mann-Whitney U is not significant, skip further analysis\n",
    "    if p_value >= 0.05:\n",
    "        results.append({\n",
    "            'Predictor': predictor,\n",
    "            'Mann-Whitney U Significant': False,\n",
    "            'Bootstrapped U p-value': None,\n",
    "            'Median Difference CI': None,\n",
    "            'Variance Difference CI': None\n",
    "        })\n",
    "        continue\n",
    "\n",
    "    # Step 2: Bootstrapping the U Statistic\n",
    "    boot_u_stats = []\n",
    "    for _ in range(n_bootstraps):\n",
    "        boot_0 = np.random.choice(group_0, size=len(group_0), replace=True)\n",
    "        boot_1 = np.random.choice(group_1, size=len(group_1), replace=True)\n",
    "        boot_stat, _ = mannwhitneyu(boot_0, boot_1, alternative='two-sided')\n",
    "        boot_u_stats.append(boot_stat)\n",
    "    \n",
    "    lower_ci_u = np.percentile(boot_u_stats, 2.5)\n",
    "    upper_ci_u = np.percentile(boot_u_stats, 97.5)\n",
    "    boot_u_p_value = np.mean(np.array(boot_u_stats) >= u_stat)\n",
    "    print(f\"  Bootstrapped U p-value: {boot_u_p_value}, CI: [{lower_ci_u}, {upper_ci_u}]\")\n",
    "\n",
    "    # Step 3: Bootstrapping the Median Difference\n",
    "    boot_diff_medians = []\n",
    "    for _ in range(n_bootstraps):\n",
    "        boot_0 = np.random.choice(group_0, size=len(group_0), replace=True)\n",
    "        boot_1 = np.random.choice(group_1, size=len(group_1), replace=True)\n",
    "        boot_diff_medians.append(np.median(boot_1) - np.median(boot_0))\n",
    "    \n",
    "    lower_ci_median = np.percentile(boot_diff_medians, 2.5)\n",
    "    upper_ci_median = np.percentile(boot_diff_medians, 97.5)\n",
    "    print(f\"  Bootstrapped Median Difference CI: [{lower_ci_median}, {upper_ci_median}]\")\n",
    "\n",
    "    # Step 4: Bootstrapping the Variance Difference (if median is not significant)\n",
    "    boot_diff_var = []\n",
    "    for _ in range(n_bootstraps):\n",
    "        boot_0 = np.random.choice(group_0, size=len(group_0), replace=True)\n",
    "        boot_1 = np.random.choice(group_1, size=len(group_1), replace=True)\n",
    "        boot_diff_var.append(np.var(boot_1) - np.var(boot_0))\n",
    "\n",
    "    # Confidence Interval for Variance Difference\n",
    "    lower_ci_var = np.percentile(boot_diff_var, 2.5)\n",
    "    upper_ci_var = np.percentile(boot_diff_var, 97.5)\n",
    "    print(f\"  Bootstrapped Variance Difference CI: [{lower_ci_var}, {upper_ci_var}]\")\n",
    "\n",
    "\n",
    "    # Store results\n",
    "    results.append({\n",
    "        'Predictor': predictor,\n",
    "        'Mann-Whitney U Significant': True,\n",
    "        'Bootstrapped U p-value': boot_u_p_value,\n",
    "        'Median Difference CI': [lower_ci_median, upper_ci_median],\n",
    "        'Variance Difference CI': [lower_ci_var, upper_ci_var] if boot_diff_var else None\n",
    "    })\n",
    "\n",
    "# Convert results to DataFrame for easy viewing\n",
    "results_df = pd.DataFrame(results)\n",
    "\n"
   ]
  }
 ],
 "metadata": {
  "kernelspec": {
   "display_name": "envdm",
   "language": "python",
   "name": "python3"
  },
  "language_info": {
   "codemirror_mode": {
    "name": "ipython",
    "version": 3
   },
   "file_extension": ".py",
   "mimetype": "text/x-python",
   "name": "python",
   "nbconvert_exporter": "python",
   "pygments_lexer": "ipython3",
   "version": "3.11.7"
  }
 },
 "nbformat": 4,
 "nbformat_minor": 2
}
